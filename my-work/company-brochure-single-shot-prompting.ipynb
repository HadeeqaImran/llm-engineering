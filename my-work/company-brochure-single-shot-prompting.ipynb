{
 "cells": [
  {
   "cell_type": "code",
   "execution_count": 1,
   "id": "5054f31b-557a-456c-a8f4-1b729b51fdfa",
   "metadata": {},
   "outputs": [],
   "source": [
    "import os\n",
    "import requests\n",
    "import json\n",
    "from typing import List\n",
    "from bs4 import BeautifulSoup\n",
    "from IPython.display import Markdown, display, update_display\n",
    "from dotenv import load_dotenv\n",
    "from openai import OpenAI"
   ]
  },
  {
   "cell_type": "code",
   "execution_count": 3,
   "id": "1a7dcdeb-79ad-4822-a9bd-2012edff5a58",
   "metadata": {},
   "outputs": [
    {
     "name": "stdout",
     "output_type": "stream",
     "text": [
      "API key looks good so far\n"
     ]
    }
   ],
   "source": [
    "# Initialize and constants\n",
    "\n",
    "load_dotenv(override=True)\n",
    "api_key = os.getenv('OPENAI_API_KEY')\n",
    "if api_key and len(api_key)>10:\n",
    "    print(\"API key looks good so far\")\n",
    "else:\n",
    "    print(\"There might be a problem with your API key? Please visit the troubleshooting notebook!\")\n",
    "    \n",
    "MODEL = 'gpt-4o-mini'\n",
    "openai = OpenAI()"
   ]
  },
  {
   "cell_type": "code",
   "execution_count": 4,
   "id": "60c84a43-9e1a-4e09-bb8b-fdf0ecd3f80b",
   "metadata": {},
   "outputs": [],
   "source": [
    "# Some websites need you to use proper headers when fetching them:\n",
    "headers = {\n",
    " \"User-Agent\": \"Mozilla/5.0 (Windows NT 10.0; Win64; x64) AppleWebKit/537.36 (KHTML, like Gecko) Chrome/117.0.0.0 Safari/537.36\"\n",
    "}\n",
    "\n",
    "class Website:\n",
    "    \"\"\"\n",
    "    A utility class to represent a Website that we have scraped, now with links\n",
    "    \"\"\"\n",
    "\n",
    "    def __init__(self, url):\n",
    "        self.url = url\n",
    "        response = requests.get(url, headers=headers)\n",
    "        self.body = response.content\n",
    "        soup = BeautifulSoup(self.body, 'html.parser')\n",
    "        self.title = soup.title.string if soup.title else \"No title found\"\n",
    "        if soup.body:\n",
    "            for irrelevant in soup.body([\"script\", \"style\", \"img\", \"input\"]):\n",
    "                irrelevant.decompose()\n",
    "            self.text = soup.body.get_text(separator=\"\\n\", strip=True)\n",
    "        else:\n",
    "            self.text = \"\"\n",
    "        links = [link.get('href') for link in soup.find_all('a')]\n",
    "        self.links = [link for link in links if link]\n",
    "\n",
    "    def get_contents(self):\n",
    "        return f\"Webpage Title:\\n{self.title}\\nWebpage Contents:\\n{self.text}\\n\\n\""
   ]
  },
  {
   "cell_type": "code",
   "execution_count": 5,
   "id": "62989dc8-2cfe-4401-a475-64a86646b7a7",
   "metadata": {},
   "outputs": [
    {
     "data": {
      "text/plain": [
       "['https://edwarddonner.com/',\n",
       " 'https://edwarddonner.com/connect-four/',\n",
       " 'https://edwarddonner.com/outsmart/',\n",
       " 'https://edwarddonner.com/about-me-and-about-nebula/',\n",
       " 'https://edwarddonner.com/posts/',\n",
       " 'https://edwarddonner.com/',\n",
       " 'https://news.ycombinator.com',\n",
       " 'https://nebula.io/?utm_source=ed&utm_medium=referral',\n",
       " 'https://www.prnewswire.com/news-releases/wynden-stark-group-acquires-nyc-venture-backed-tech-startup-untapt-301269512.html',\n",
       " 'https://patents.google.com/patent/US20210049536A1/',\n",
       " 'https://www.linkedin.com/in/eddonner/',\n",
       " 'https://edwarddonner.com/2025/04/21/the-complete-agentic-ai-engineering-course/',\n",
       " 'https://edwarddonner.com/2025/04/21/the-complete-agentic-ai-engineering-course/',\n",
       " 'https://edwarddonner.com/2025/01/23/llm-workshop-hands-on-with-agents-resources/',\n",
       " 'https://edwarddonner.com/2025/01/23/llm-workshop-hands-on-with-agents-resources/',\n",
       " 'https://edwarddonner.com/2024/12/21/llm-resources-superdatascience/',\n",
       " 'https://edwarddonner.com/2024/12/21/llm-resources-superdatascience/',\n",
       " 'https://edwarddonner.com/2024/11/13/llm-engineering-resources/',\n",
       " 'https://edwarddonner.com/2024/11/13/llm-engineering-resources/',\n",
       " 'https://edwarddonner.com/',\n",
       " 'https://edwarddonner.com/connect-four/',\n",
       " 'https://edwarddonner.com/outsmart/',\n",
       " 'https://edwarddonner.com/about-me-and-about-nebula/',\n",
       " 'https://edwarddonner.com/posts/',\n",
       " 'mailto:hello@mygroovydomain.com',\n",
       " 'https://www.linkedin.com/in/eddonner/',\n",
       " 'https://twitter.com/edwarddonner',\n",
       " 'https://www.facebook.com/edward.donner.52']"
      ]
     },
     "execution_count": 5,
     "metadata": {},
     "output_type": "execute_result"
    }
   ],
   "source": [
    "ed = Website(\"https://edwarddonner.com\")\n",
    "ed.links"
   ]
  },
  {
   "cell_type": "code",
   "execution_count": 11,
   "id": "b7881af5-cd77-4bae-8d22-e0f4601e668f",
   "metadata": {},
   "outputs": [],
   "source": [
    "def get_links_user_prompt(website):\n",
    "    user_prompt = f\"Here is the list of links on the website of {website.url} - \"\n",
    "    user_prompt += \"please decide which of these are relevant web links for a brochure about the company, respond with the full https URL in JSON format. \\\n",
    "    Do not include Terms of Service, Privacy, email links.\\n\"\n",
    "    user_prompt += \"Links (some might be relative links):\\n\"\n",
    "    user_prompt += \"\\n\".join(website.links)\n",
    "    return user_prompt"
   ]
  },
  {
   "cell_type": "code",
   "execution_count": 17,
   "id": "f7838af3-613c-4a39-bbd8-0549438d4627",
   "metadata": {},
   "outputs": [],
   "source": [
    "def get_relevant_links(url):\n",
    "    website = Website(url)\n",
    "    response = openai.chat.completions.create(\n",
    "        model=MODEL,\n",
    "        messages=[\n",
    "            {\"role\": \"system\", \"content\": link_system_prompt},\n",
    "            {\"role\": \"user\", \"content\": get_links_user_prompt(website)}\n",
    "      ],\n",
    "        response_format={\"type\": \"json_object\"}\n",
    "    )\n",
    "    result = response.choices[0].message.content\n",
    "    return json.loads(result)"
   ]
  },
  {
   "cell_type": "markdown",
   "id": "fb5e0b34-b452-4a4e-a9c5-294d19485088",
   "metadata": {},
   "source": [
    "## One Shot Prompting\n",
    "The system prompt has one example of the json in which we are expecting our output for links to be. Hence we are using one shot prompting here."
   ]
  },
  {
   "cell_type": "code",
   "execution_count": 9,
   "id": "d197e8b8-e778-4186-aee3-594539392980",
   "metadata": {},
   "outputs": [],
   "source": [
    "link_system_prompt = \"You are provided with a list of links found on a webpage. \\\n",
    "You are able to decide which of the links would be most relevant to include in a brochure about the company, \\\n",
    "such as links to an About page, or a Company page, or Careers/Jobs pages.\\n\"\n",
    "link_system_prompt += \"You should respond in JSON as in this example:\"\n",
    "link_system_prompt += \"\"\"\n",
    "{\n",
    "    \"links\": [\n",
    "        {\"type\": \"about page\", \"url\": \"https://full.url/goes/here/about\"},\n",
    "        {\"type\": \"careers page\": \"url\": \"https://another.full.url/careers\"}\n",
    "    ]\n",
    "}\n",
    "\"\"\""
   ]
  },
  {
   "cell_type": "markdown",
   "id": "a639c8e1-e43a-485c-be50-e1af116c2923",
   "metadata": {},
   "source": [
    "# Actual Link Scrapping After Setup"
   ]
  },
  {
   "cell_type": "code",
   "execution_count": 16,
   "id": "5ded2557-2a73-4266-ac2c-2330790320f2",
   "metadata": {},
   "outputs": [
    {
     "data": {
      "text/plain": [
       "['/',\n",
       " '/models',\n",
       " '/datasets',\n",
       " '/spaces',\n",
       " '/posts',\n",
       " '/docs',\n",
       " '/enterprise',\n",
       " '/pricing',\n",
       " '/login',\n",
       " '/join',\n",
       " '/spaces',\n",
       " '/models',\n",
       " '/deepseek-ai/DeepSeek-Prover-V2-671B',\n",
       " '/nvidia/parakeet-tdt-0.6b-v2',\n",
       " '/nari-labs/Dia-1.6B',\n",
       " '/JetBrains/Mellum-4b-base',\n",
       " '/Qwen/Qwen3-235B-A22B',\n",
       " '/models',\n",
       " '/spaces/enzostvs/deepsite',\n",
       " '/spaces/RiverZ/ICEdit',\n",
       " '/spaces/nari-labs/Dia-1.6B',\n",
       " '/spaces/Qwen/Qwen3-Demo',\n",
       " '/spaces/retwpay/waiNSFWIllustrious_v110',\n",
       " '/spaces',\n",
       " '/datasets/nvidia/Nemotron-CrossThink',\n",
       " '/datasets/rajpurkarlab/ReXGradient-160K',\n",
       " '/datasets/nvidia/OpenMathReasoning',\n",
       " '/datasets/nvidia/OpenCodeReasoning',\n",
       " '/datasets/deepseek-ai/DeepSeek-ProverBench',\n",
       " '/datasets',\n",
       " '/join',\n",
       " '/pricing#endpoints',\n",
       " '/pricing#spaces',\n",
       " '/pricing',\n",
       " '/enterprise',\n",
       " '/enterprise',\n",
       " '/enterprise',\n",
       " '/enterprise',\n",
       " '/enterprise',\n",
       " '/enterprise',\n",
       " '/enterprise',\n",
       " '/allenai',\n",
       " '/facebook',\n",
       " '/amazon',\n",
       " '/google',\n",
       " '/Intel',\n",
       " '/microsoft',\n",
       " '/grammarly',\n",
       " '/Writer',\n",
       " '/docs/transformers',\n",
       " '/docs/diffusers',\n",
       " '/docs/safetensors',\n",
       " '/docs/huggingface_hub',\n",
       " '/docs/tokenizers',\n",
       " '/docs/trl',\n",
       " '/docs/transformers.js',\n",
       " '/docs/smolagents',\n",
       " '/docs/peft',\n",
       " '/docs/datasets',\n",
       " '/docs/text-generation-inference',\n",
       " '/docs/accelerate',\n",
       " '/models',\n",
       " '/datasets',\n",
       " '/spaces',\n",
       " '/tasks',\n",
       " 'https://ui.endpoints.huggingface.co',\n",
       " '/chat',\n",
       " '/huggingface',\n",
       " '/brand',\n",
       " '/terms-of-service',\n",
       " '/privacy',\n",
       " 'https://apply.workable.com/huggingface/',\n",
       " 'mailto:press@huggingface.co',\n",
       " '/learn',\n",
       " '/docs',\n",
       " '/blog',\n",
       " 'https://discuss.huggingface.co',\n",
       " 'https://status.huggingface.co/',\n",
       " 'https://github.com/huggingface',\n",
       " 'https://twitter.com/huggingface',\n",
       " 'https://www.linkedin.com/company/huggingface/',\n",
       " '/join/discord']"
      ]
     },
     "execution_count": 16,
     "metadata": {},
     "output_type": "execute_result"
    }
   ],
   "source": [
    "# Scraping links from huggingface\n",
    "huggingface = Website(\"https://huggingface.co\")\n",
    "huggingface.links"
   ]
  },
  {
   "cell_type": "code",
   "execution_count": 18,
   "id": "6d705af7-5133-4d8b-832f-1149ad6a1e4a",
   "metadata": {},
   "outputs": [
    {
     "data": {
      "text/plain": [
       "{'links': [{'type': 'about page', 'url': 'https://huggingface.co'},\n",
       "  {'type': 'careers page', 'url': 'https://apply.workable.com/huggingface/'},\n",
       "  {'type': 'blog', 'url': 'https://huggingface.co/blog'},\n",
       "  {'type': 'community page', 'url': 'https://discuss.huggingface.co'},\n",
       "  {'type': 'company profile',\n",
       "   'url': 'https://www.linkedin.com/company/huggingface/'},\n",
       "  {'type': 'contact page', 'url': 'https://huggingface.co/chat'}]}"
      ]
     },
     "execution_count": 18,
     "metadata": {},
     "output_type": "execute_result"
    }
   ],
   "source": [
    "# Asking the llm to give us relevant links\n",
    "get_relevant_links(\"https://huggingface.co\")"
   ]
  },
  {
   "cell_type": "code",
   "execution_count": 19,
   "id": "e4ecf0b6-b36b-4b96-aa4a-f36d2820bdd7",
   "metadata": {},
   "outputs": [],
   "source": [
    "# Function to script details of relevant links\n",
    "def get_all_details(url):\n",
    "    result = \"Landing page:\\n\"\n",
    "    result += Website(url).get_contents()\n",
    "    links = get_links(url)\n",
    "    print(\"Found links:\", links)\n",
    "    for link in links[\"links\"]:\n",
    "        result += f\"\\n\\n{link['type']}\\n\"\n",
    "        result += Website(link[\"url\"]).get_contents()\n",
    "    return result"
   ]
  },
  {
   "cell_type": "markdown",
   "id": "9b4ef438-004e-4437-9213-2832d8842806",
   "metadata": {},
   "source": [
    "# Making the Brochure"
   ]
  },
  {
   "cell_type": "code",
   "execution_count": 20,
   "id": "d3d25b17-456c-46df-9926-18f73a039a54",
   "metadata": {},
   "outputs": [],
   "source": [
    "system_prompt = \"You are an assistant that analyzes the contents of several relevant pages from a company website \\\n",
    "and creates a short brochure about the company for prospective customers, investors and recruits. Respond in markdown.\\\n",
    "Include details of company culture, customers and careers/jobs if you have the information.\"\n"
   ]
  },
  {
   "cell_type": "code",
   "execution_count": 21,
   "id": "4d24992a-b501-48c4-a8ab-87ef20f25de3",
   "metadata": {},
   "outputs": [],
   "source": [
    "def get_brochure_user_prompt(company_name, url):\n",
    "    user_prompt = f\"You are looking at a company called: {company_name}\\n\"\n",
    "    user_prompt += f\"Here are the contents of its landing page and other relevant pages; use this information to build a short brochure of the company in markdown.\\n\"\n",
    "    user_prompt += get_all_details(url)\n",
    "    user_prompt = user_prompt[:5_000] # Truncate if more than 5,000 characters\n",
    "    return user_prompt"
   ]
  },
  {
   "cell_type": "code",
   "execution_count": 22,
   "id": "b7716b96-5196-4d04-a87d-795bf62e4409",
   "metadata": {},
   "outputs": [],
   "source": [
    "def create_brochure(company_name, url):\n",
    "    response = openai.chat.completions.create(\n",
    "        model=MODEL,\n",
    "        messages=[\n",
    "            {\"role\": \"system\", \"content\": system_prompt},\n",
    "            {\"role\": \"user\", \"content\": get_brochure_user_prompt(company_name, url)}\n",
    "          ],\n",
    "    )\n",
    "    result = response.choices[0].message.content\n",
    "    display(Markdown(result))"
   ]
  },
  {
   "cell_type": "code",
   "execution_count": 23,
   "id": "fe74f455-2746-4b81-9a1e-5512e97eb659",
   "metadata": {},
   "outputs": [
    {
     "name": "stdout",
     "output_type": "stream",
     "text": [
      "Found links: {'links': [{'type': 'about page', 'url': 'https://huggingface.co'}, {'type': 'careers page', 'url': 'https://apply.workable.com/huggingface/'}, {'type': 'company page', 'url': 'https://www.linkedin.com/company/huggingface/'}]}\n"
     ]
    },
    {
     "data": {
      "text/markdown": [
       "# Hugging Face Brochure\n",
       "\n",
       "## About Us\n",
       "Welcome to Hugging Face, the AI community shaping the future of machine learning. Our platform serves as a collaborative hub where enthusiasts, developers, and organizations can come together to build, share, and innovate on AI models, datasets, and applications.\n",
       "\n",
       "Discover a wealth of resources including **1M+ models** and **250k+ datasets** that fuel the creativity and development within the machine learning community.\n",
       "\n",
       "## Our Offerings\n",
       "### AI Models & Datasets\n",
       "- **Explore Models**: With over 1 million models available, you can browse and utilize state-of-the-art machine learning resources for various tasks, from text generation to image processing.\n",
       "- **Utilize Datasets**: Access an extensive library of datasets tailored for different machine learning tasks, enabling comprehensive research and application development.\n",
       "\n",
       "### Compute & Enterprise Solutions\n",
       "- **Compute**: Deploy your applications on optimized inference endpoints with GPU solutions starting at just $0.60/hour.\n",
       "- **Enterprise**: Unlock the full potential of AI with our enterprise-grade solutions featuring advanced security, dedicated support, and tailored access for teams, starting at $20/user/month.\n",
       "\n",
       "## Who We Serve\n",
       "More than **50,000 organizations** trust Hugging Face including industry giants like:\n",
       "- **Google**\n",
       "- **Amazon**\n",
       "- **Microsoft**\n",
       "- **Meta**\n",
       "- **Grammarly**\n",
       "\n",
       "These partners leverage Hugging Face for cutting-edge AI advancements and collaborative projects.\n",
       "\n",
       "## Company Culture\n",
       "At Hugging Face, we pride ourselves on being community-driven. We’re passionate about open-source contributions and fostering collaboration among a diverse group of talent. Our inclusive environment encourages continuous learning and experimentation, making us a leading force in the AI landscape.\n",
       "\n",
       "## Careers at Hugging Face\n",
       "Join us in our mission to democratize AI! We are on the lookout for innovative and driven individuals to be part of our growing team. Check out available positions in various fields including engineering, research, and community management. \n",
       "\n",
       "Explore exciting career opportunities and help us build the future of artificial intelligence!\n",
       "\n",
       "## Connect With Us\n",
       "- **Website**: [huggingface.co](https://huggingface.co)\n",
       "- **GitHub**: [Hugging Face GitHub](https://github.com/huggingface)\n",
       "- **Twitter**: [@HuggingFace](https://twitter.com/huggingface)\n",
       "- **LinkedIn**: [Hugging Face LinkedIn](https://linkedin.com/company/huggingface)\n",
       "- **Discord**: Join our community discussions.\n",
       "\n",
       "---\n",
       "Join Hugging Face today and be part of a revolutionary platform that's not just about technology, but about building a community that empowers every AI enthusiast and expert!"
      ],
      "text/plain": [
       "<IPython.core.display.Markdown object>"
      ]
     },
     "metadata": {},
     "output_type": "display_data"
    }
   ],
   "source": [
    "create_brochure(\"HuggingFace\", \"https://huggingface.co\")"
   ]
  },
  {
   "cell_type": "markdown",
   "id": "2b845eb6-7df6-4302-bca7-96e396910f54",
   "metadata": {},
   "source": [
    "# Converting the Brochure to a Stream Like Result"
   ]
  },
  {
   "cell_type": "code",
   "execution_count": 24,
   "id": "962ca7cc-dc69-4a68-8680-b6e03d825950",
   "metadata": {},
   "outputs": [],
   "source": [
    "def stream_brochure(company_name, url):\n",
    "    stream = openai.chat.completions.create(\n",
    "        model=MODEL,\n",
    "        messages=[\n",
    "            {\"role\": \"system\", \"content\": system_prompt},\n",
    "            {\"role\": \"user\", \"content\": get_brochure_user_prompt(company_name, url)}\n",
    "          ],\n",
    "        stream=True\n",
    "    )\n",
    "    \n",
    "    response = \"\"\n",
    "    display_handle = display(Markdown(\"\"), display_id=True)\n",
    "    for chunk in stream:\n",
    "        response += chunk.choices[0].delta.content or ''\n",
    "        response = response.replace(\"```\",\"\").replace(\"markdown\", \"\")\n",
    "        update_display(Markdown(response), display_id=display_handle.display_id)"
   ]
  },
  {
   "cell_type": "code",
   "execution_count": 26,
   "id": "93bc581d-8014-4b5b-ac4b-c1e5466c9675",
   "metadata": {},
   "outputs": [
    {
     "name": "stdout",
     "output_type": "stream",
     "text": [
      "Found links: {'links': [{'type': 'about page', 'url': 'https://huggingface.co/huggingface'}, {'type': 'careers page', 'url': 'https://apply.workable.com/huggingface/'}, {'type': 'company blog', 'url': 'https://huggingface.co/blog'}, {'type': 'community discussion', 'url': 'https://discuss.huggingface.co'}, {'type': 'GitHub repository', 'url': 'https://github.com/huggingface'}, {'type': 'LinkedIn page', 'url': 'https://www.linkedin.com/company/huggingface/'}, {'type': 'Twitter page', 'url': 'https://twitter.com/huggingface'}]}\n"
     ]
    },
    {
     "data": {
      "text/markdown": [
       "\n",
       "# Welcome to Hugging Face\n",
       "\n",
       "### The AI Community Building the Future\n",
       "\n",
       "Hugging Face is a thriving community dedicated to transforming the field of Artificial Intelligence (AI) and Machine Learning (ML). As a collaborative platform, we foster partnerships among enthusiasts, researchers, developers, and enterprises, uniting them to accelerate innovation and establish state-of-the-art models, datasets, and applications.\n",
       "\n",
       "---\n",
       "\n",
       "## Our Offerings\n",
       "\n",
       "### Models & Datasets\n",
       "- **Massive Repository**: Access over **1 million ML models** and **250,000 datasets** creating a vast resource for research and development.\n",
       "- **Cutting-Edge Technology**: Use our sophisticated libraries such as **Transformers**, **Diffusers**, and **Tokenizers** tailored for developers and researchers alike.\n",
       "\n",
       "### Collaboration Spaces\n",
       "- **Hugging Spaces**: Host and collaborate on unlimited public models and applications, making it easier for teams to collaborate and innovate.\n",
       "\n",
       "### Enterprise Solutions\n",
       "Our comprehensive **Enterprise offerings** include:\n",
       "- Custom solutions with **enterprise-grade security**, priority support, and dedicated access controls starting at **$20/user/month**.\n",
       "- Deployment capabilities on optimized inference endpoints providing performance and scalability.\n",
       "\n",
       "### Support and Community\n",
       "Join a community of over **50,000 organizations** from diverse sectors including **Meta**, **Google**, **Microsoft**, and many others, all leveraging Hugging Face to advance their AI projects.\n",
       "\n",
       "---\n",
       "\n",
       "## Company Culture\n",
       "\n",
       "At Hugging Face, we believe in the power of open-source collaboration. Our mission to democratize machine learning emphasizes transparency and shared knowledge. Our team, composed of over **215 members**, fosters a culture of inclusivity, creativity, and continuous learning.\n",
       "\n",
       "We understand that collaboration is key to innovation, and we actively encourage our members to share their work, contribute to existing projects, and create new cutting-edge solutions to drive the AI field forward.\n",
       "\n",
       "---\n",
       "\n",
       "## Careers at Hugging Face\n",
       "\n",
       "We are always on the lookout for bright minds to join our mission. If you are passionate about AI and ML and excited to shape the future of technology, **Hugging Face** is the place for you.\n",
       "\n",
       "- Explore job openings across various roles in engineering, research, and support.\n",
       "- Become part of a collaborative environment where your contributions will make a significant impact.\n",
       "\n",
       "### Join Us!\n",
       "Feel inspired? [Join the Hugging Face community today](https://huggingface.co) and help us in our quest to democratize machine learning and create impactful solutions for all.\n",
       "\n",
       "---\n",
       "\n",
       "**Connect With Us:**\n",
       "- [GitHub](https://huggingface.co)\n",
       "- [Twitter](https://twitter.com/huggingface)\n",
       "- [LinkedIn](https://www.linkedin.com/company/huggingface)\n",
       "- [Discord](https://discord.gg/huggingface)\n",
       "\n",
       "Together, let's build the future of AI!\n",
       "\n"
      ],
      "text/plain": [
       "<IPython.core.display.Markdown object>"
      ]
     },
     "metadata": {},
     "output_type": "display_data"
    }
   ],
   "source": [
    "stream_brochure(\"HuggingFace\", \"https://huggingface.co\")"
   ]
  },
  {
   "cell_type": "code",
   "execution_count": null,
   "id": "7cf39afb-b2c1-46c8-b1c7-28882691b622",
   "metadata": {},
   "outputs": [],
   "source": []
  }
 ],
 "metadata": {
  "kernelspec": {
   "display_name": "Python 3 (ipykernel)",
   "language": "python",
   "name": "python3"
  },
  "language_info": {
   "codemirror_mode": {
    "name": "ipython",
    "version": 3
   },
   "file_extension": ".py",
   "mimetype": "text/x-python",
   "name": "python",
   "nbconvert_exporter": "python",
   "pygments_lexer": "ipython3",
   "version": "3.11.11"
  }
 },
 "nbformat": 4,
 "nbformat_minor": 5
}
