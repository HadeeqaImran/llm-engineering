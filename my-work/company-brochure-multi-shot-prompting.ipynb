{
 "cells": [
  {
   "cell_type": "code",
   "execution_count": 1,
   "id": "519665eb-56ea-4f0f-be67-1a470905b95e",
   "metadata": {},
   "outputs": [],
   "source": [
    "import os\n",
    "import requests\n",
    "import json\n",
    "from typing import List\n",
    "from dotenv import load_dotenv\n",
    "from bs4 import BeautifulSoup\n",
    "from IPython.display import Markdown, display, update_display\n",
    "from openai import OpenAI"
   ]
  },
  {
   "cell_type": "code",
   "execution_count": 2,
   "id": "ea11fa59-c93d-457a-8c0a-baf0b76a2ef4",
   "metadata": {},
   "outputs": [
    {
     "name": "stdout",
     "output_type": "stream",
     "text": [
      "API key looks good so far\n"
     ]
    }
   ],
   "source": [
    "# Initialize and constants\n",
    "\n",
    "load_dotenv(override=True)\n",
    "api_key = os.getenv('OPENAI_API_KEY')\n",
    "if api_key and len(api_key)>10:\n",
    "    print(\"API key looks good so far\")\n",
    "else:\n",
    "    print(\"There might be a problem with your API key? Please visit the troubleshooting notebook!\")\n",
    "    \n",
    "MODEL = 'gpt-4o-mini'\n",
    "openai = OpenAI()"
   ]
  },
  {
   "cell_type": "code",
   "execution_count": 3,
   "id": "d86dcbed-2b97-4c61-80c5-1aabc4441339",
   "metadata": {},
   "outputs": [],
   "source": [
    "# Some websites need you to use proper headers when fetching them:\n",
    "headers = {\n",
    " \"User-Agent\": \"Mozilla/5.0 (Windows NT 10.0; Win64; x64) AppleWebKit/537.36 (KHTML, like Gecko) Chrome/117.0.0.0 Safari/537.36\"\n",
    "}\n",
    "\n",
    "class Website:\n",
    "    \"\"\"\n",
    "    A utility class to represent a Website that we have scraped, now with links\n",
    "    \"\"\"\n",
    "\n",
    "    def __init__(self, url):\n",
    "        self.url = url\n",
    "        response = requests.get(url, headers=headers)\n",
    "        self.body = response.content\n",
    "        soup = BeautifulSoup(self.body, 'html.parser')\n",
    "        self.title = soup.title.string if soup.title else \"No title found\"\n",
    "        if soup.body:\n",
    "            for irrelevant in soup.body([\"script\", \"style\", \"img\", \"input\"]):\n",
    "                irrelevant.decompose()\n",
    "            self.text = soup.body.get_text(separator=\"\\n\", strip=True)\n",
    "        else:\n",
    "            self.text = \"\"\n",
    "        links = [link.get('href') for link in soup.find_all('a')]\n",
    "        self.links = [link for link in links if link]\n",
    "\n",
    "    def get_contents(self):\n",
    "        return f\"Webpage Title:\\n{self.title}\\nWebpage Contents:\\n{self.text}\\n\\n\""
   ]
  },
  {
   "cell_type": "code",
   "execution_count": 4,
   "id": "81fbe788-a6c1-42c5-a140-c13a3abd788e",
   "metadata": {},
   "outputs": [],
   "source": [
    "def get_links_user_prompt(website):\n",
    "    user_prompt = f\"Here is the list of links on the website of {website.url} - \"\n",
    "    user_prompt += \"please decide which of these are relevant web links for a brochure about the company, respond with the full https URL in JSON format. \\\n",
    "    Do not include Terms of Service, Privacy, email links.\\n\"\n",
    "    user_prompt += \"Links (some might be relative links):\\n\"\n",
    "    user_prompt += \"\\n\".join(website.links)\n",
    "    return user_prompt"
   ]
  },
  {
   "cell_type": "code",
   "execution_count": 5,
   "id": "f25ea9e2-2260-45d1-859f-1a91b78a067a",
   "metadata": {},
   "outputs": [],
   "source": [
    "def get_relevant_links(url):\n",
    "    website = Website(url)\n",
    "    response = openai.chat.completions.create(\n",
    "        model=MODEL,\n",
    "        messages=[\n",
    "            {\"role\": \"system\", \"content\": link_system_prompt},\n",
    "            {\"role\": \"user\", \"content\": get_links_user_prompt(website)}\n",
    "      ],\n",
    "        response_format={\"type\": \"json_object\"}\n",
    "    )\n",
    "    result = response.choices[0].message.content\n",
    "    return json.loads(result)"
   ]
  },
  {
   "cell_type": "markdown",
   "id": "7af15cfa-4556-4d81-a0fd-a1173fd0fd98",
   "metadata": {},
   "source": [
    "# Multi-shot Prompting"
   ]
  },
  {
   "cell_type": "code",
   "execution_count": 21,
   "id": "cf4ca437-cd0d-4321-8b57-d7023d8a4992",
   "metadata": {},
   "outputs": [],
   "source": [
    "link_system_prompt = \"\"\"You are provided with a list of links found on a webpage. \n",
    "You should decide which of the links would be most relevant to include in a brochure about the company, \n",
    "such as links to an About page, Company page, or Careers/Jobs pages.\n",
    "\n",
    "Respond in JSON as shown in the following examples:\n",
    "\n",
    "Example 1:\n",
    "{\n",
    "    \"links\": [\n",
    "        {\"type\": \"about page\", \"url\": \"https://example.com/about\"},\n",
    "        {\"type\": \"careers page\", \"url\": \"https://example.com/careers\"},\n",
    "        {\"type\": \"contact page\", \"url\": \"https://example.com/contact\"}\n",
    "    ]\n",
    "}\n",
    "\n",
    "Example 2:\n",
    "{\n",
    "    \"links\": [\n",
    "        {\"type\": \"about page\", \"url\": \"https://mycompany.com/about\"},\n",
    "        {\"type\": \"team page\", \"url\": \"https://mycompany.com/team\"},\n",
    "        {\"type\": \"blog page\", \"url\": \"https://mycompany.com/blog\"}\n",
    "    ]\n",
    "}\n",
    "\"\"\""
   ]
  },
  {
   "cell_type": "code",
   "execution_count": 22,
   "id": "ef2f3b36-a73b-4479-abf8-7dfb616100c0",
   "metadata": {},
   "outputs": [],
   "source": [
    "def get_all_details(url):\n",
    "    result = \"Landing page:\\n\"\n",
    "    result += Website(url).get_contents()\n",
    "    links = get_relevant_links(url)\n",
    "    print(\"Found links:\", links)\n",
    "    for link in links[\"links\"]:\n",
    "        result += f\"\\n\\n{link['type']}\\n\"\n",
    "        result += Website(link[\"url\"]).get_contents()\n",
    "    return result"
   ]
  },
  {
   "cell_type": "markdown",
   "id": "59ec970f-5a4f-449f-90aa-fba2121b078a",
   "metadata": {},
   "source": [
    "# Making the Brochure"
   ]
  },
  {
   "cell_type": "code",
   "execution_count": 23,
   "id": "69c93645-a6f5-4332-9a07-ce540879d7c6",
   "metadata": {},
   "outputs": [],
   "source": [
    "system_prompt = \"You are an assistant that analyzes the contents of several relevant pages from a company website \\\n",
    "and creates a short brochure about the company for prospective customers, investors and recruits. Respond in markdown.\\\n",
    "Include details of company culture, customers and careers/jobs if you have the information.\"\n"
   ]
  },
  {
   "cell_type": "code",
   "execution_count": 24,
   "id": "f79ceba4-7131-4a72-b137-35d541077b0d",
   "metadata": {},
   "outputs": [],
   "source": [
    "def get_brochure_user_prompt(company_name, url):\n",
    "    user_prompt = f\"You are looking at a company called: {company_name}\\n\"\n",
    "    user_prompt += f\"Here are the contents of its landing page and other relevant pages; use this information to build a short brochure of the company in markdown.\\n\"\n",
    "    user_prompt += get_all_details(url)\n",
    "    user_prompt = user_prompt[:5_000] # Truncate if more than 5,000 characters\n",
    "    return user_prompt"
   ]
  },
  {
   "cell_type": "code",
   "execution_count": 25,
   "id": "7039bfbd-b170-4a0f-b76a-ecb6b8d49745",
   "metadata": {},
   "outputs": [],
   "source": [
    "def create_brochure(company_name, url):\n",
    "    response = openai.chat.completions.create(\n",
    "        model=MODEL,\n",
    "        messages=[\n",
    "            {\"role\": \"system\", \"content\": system_prompt},\n",
    "            {\"role\": \"user\", \"content\": get_brochure_user_prompt(company_name, url)}\n",
    "          ],\n",
    "    )\n",
    "    result = response.choices[0].message.content\n",
    "    display(Markdown(result))"
   ]
  },
  {
   "cell_type": "code",
   "execution_count": 26,
   "id": "397bd5dd-8b5b-46de-bf63-3f62669e39b6",
   "metadata": {},
   "outputs": [
    {
     "name": "stdout",
     "output_type": "stream",
     "text": [
      "Found links: {'links': [{'type': 'about page', 'url': 'https://huggingface.co/huggingface'}, {'type': 'careers page', 'url': 'https://apply.workable.com/huggingface/'}, {'type': 'blog page', 'url': 'https://huggingface.co/blog'}, {'type': 'contact page', 'url': 'https://www.linkedin.com/company/huggingface/'}]}\n"
     ]
    },
    {
     "data": {
      "text/markdown": [
       "# Hugging Face Brochure\n",
       "\n",
       "## About Us\n",
       "**Hugging Face** is at the forefront of the artificial intelligence community, dedicated to building the future through collaboration and innovation. With a mission to democratize machine learning, we provide a platform where researchers, developers, and enterprises can create, discover, and share cutting-edge machine learning models, datasets, and applications.\n",
       "\n",
       "## Our Offerings\n",
       "- **Models:** Explore over **1 million state-of-the-art models** across various applications.\n",
       "- **Datasets:** Access and share **250,000+ datasets** tailored for any machine learning task in the community.\n",
       "- **Spaces:** Create and host applications seamlessly, with access to running applications like DeepSite and Dia.\n",
       "- **Enterprise Solutions:** Tailored solutions designed for organizations, offering advanced features and dedicated support.\n",
       "\n",
       "## Our Customers\n",
       "More than **50,000 organizations** trust Hugging Face, including some of the world's leading tech companies:\n",
       "- **Meta**\n",
       "- **Amazon**\n",
       "- **Google**\n",
       "- **Microsoft**\n",
       "- **Grammarly**\n",
       "\n",
       "Each of these companies actively participates in building, sharing, and leveraging ML tools through our platform.\n",
       "\n",
       "## Company Culture\n",
       "Hugging Face thrives on a dynamic community-focused environment where collaboration is key. Our culture emphasizes:\n",
       "- **Inclusivity:** Encouraging contributions from diverse perspectives and backgrounds.\n",
       "- **Innovation:** Constantly striving to improve and expand the boundaries of machine learning.\n",
       "- **Open Source:** We believe in the power of collective knowledge. Our open-source tools, such as Transformers and Diffusers, are used by thousands to drive ML forward.\n",
       "\n",
       "## Careers at Hugging Face\n",
       "We are always on the lookout for passionate individuals eager to make an impact in the field of AI and machine learning. Positions in various roles are available as we expand, from engineers to community managers. By joining our team, you become part of a community dedicated to advancing AI technology and fostering collaboration.\n",
       "\n",
       "### Current Openings\n",
       "Visit our careers page for the latest job opportunities and start your journey with us!\n",
       "\n",
       "## Join Our Community\n",
       "Whether you are a developer, researcher, or just curious about AI, Hugging Face is the platform for you. Sign up today to unlock the potential of machine learning and be part of this exciting journey!\n",
       "\n",
       "For more information, visit [Hugging Face](https://huggingface.co) or reach out to us on our social channels!  \n",
       "\n",
       "--- \n",
       "\n",
       "*Hugging Face is committed to building the future of AI—one collaboration at a time.*"
      ],
      "text/plain": [
       "<IPython.core.display.Markdown object>"
      ]
     },
     "metadata": {},
     "output_type": "display_data"
    }
   ],
   "source": [
    "create_brochure(\"HuggingFace\", \"https://huggingface.co\")"
   ]
  }
 ],
 "metadata": {
  "kernelspec": {
   "display_name": "Python 3 (ipykernel)",
   "language": "python",
   "name": "python3"
  },
  "language_info": {
   "codemirror_mode": {
    "name": "ipython",
    "version": 3
   },
   "file_extension": ".py",
   "mimetype": "text/x-python",
   "name": "python",
   "nbconvert_exporter": "python",
   "pygments_lexer": "ipython3",
   "version": "3.13.3"
  }
 },
 "nbformat": 4,
 "nbformat_minor": 5
}
